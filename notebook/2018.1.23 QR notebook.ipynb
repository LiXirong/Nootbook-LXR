{
 "cells": [
  {
   "cell_type": "code",
   "execution_count": 2,
   "metadata": {
    "collapsed": true
   },
   "outputs": [],
   "source": [
    "# -*- coding: utf-8 -*-\n",
    "import matplotlib as mpl\n",
    "import math as math\n",
    "import pandas as pd\n",
    "import numpy as np\n",
    "import scipy.stats as spstats\n",
    "import scipy as sp\n",
    "import matplotlib.pyplot as plt\n",
    "%matplotlib inline\n",
    "\n",
    "# import IPython.core.display as di\n",
    "# di.display_html('<script>jQuery(function() {if (jQuery(\"body.notebook_app\").length == 0) { jQuery(\".input_area\").toggle(); jQuery(\".prompt\").toggle();}});</script>', raw=True)"
   ]
  },
  {
   "cell_type": "markdown",
   "metadata": {},
   "source": [
    "# 2018.1.23 Notebook \n",
    "李曦嵘　　634602068@qq.com　　武汉大学电子信息学院"
   ]
  },
  {
   "cell_type": "markdown",
   "metadata": {},
   "source": [
    "## 3 QR分解的应用\n",
    "\n",
    "### 3.1 QR算法求特征值\n",
    "\n",
    "![](http://img.blog.csdn.net/20150305201229278)\n",
    "\n",
    ">知乎：\n",
    "[为什么矩阵QR分解迭代的主对角会最终收敛到特征值？](https://www.zhihu.com/question/54455860)"
   ]
  },
  {
   "cell_type": "code",
   "execution_count": 4,
   "metadata": {},
   "outputs": [
    {
     "name": "stdout",
     "output_type": "stream",
     "text": [
      "==================================================\n",
      "a= [[2 1]\n",
      " [1 2]]\n",
      "=======================QR分解=======================\n",
      "q=\n",
      "\n",
      "[[-0.89442719 -0.4472136 ]\n",
      " [-0.4472136   0.89442719]]\n",
      "\n",
      "r=\n",
      "\n",
      "[[-2.23606798 -1.78885438]\n",
      " [ 0.          1.34164079]]\n",
      "\n",
      "q*r=\n",
      "\n",
      "[[[ 2.  1.]\n",
      "  [ 1.  2.]]]\n",
      "\n",
      "q*q=\n",
      "\n",
      "[[[ 1. -0.]\n",
      "  [-0.  1.]]]\n",
      "\n",
      "r*q=\n",
      "\n",
      "[[[ 2.8 -0.6]\n",
      "  [-0.6  1.2]]]\n",
      "=======================end========================\n",
      "=====================特征值与特征向量=====================\n",
      "A的特征向量为:\n",
      " [[ 0.70710678 -0.70710678]\n",
      " [ 0.70710678  0.70710678]] \n",
      "A的特征值为:\n",
      " [ 3.  1.]\n",
      "=====================QR算法求特征值=====================\n",
      "迭代次数：\n",
      " 12 \n",
      "特征值：\n",
      " [ 3.  1.]\n",
      "=======================end========================\n"
     ]
    }
   ],
   "source": [
    "print(''.center(50,'='))\n",
    "a = np.matrix([[2, 1],\n",
    "               [1, 2]])\n",
    "print('a=',a)\n",
    "\n",
    "print('QR分解'.center(50,'='))\n",
    "\n",
    "q,r=np.linalg.qr(a, 'complete')\n",
    "\n",
    "b = np.around([np.dot(q,r)], decimals = 2) \n",
    "\n",
    "c = np.around([np.dot(q,q.T)], decimals = 10) \n",
    "\n",
    "d = np.around([np.dot(r,q)], decimals = 10)\n",
    "\n",
    "print('q=',q,'r=',r,'q*r=',b,'q*q=',c,'r*q=',d,sep='\\n\\n')\n",
    "\n",
    "print('end'.center(50,'='))\n",
    "\n",
    "###############################################\n",
    "\n",
    "print('特征值与特征向量'.center(50,'='))\n",
    "value, v=np.linalg.eig(a)\n",
    "print('A的特征向量为:\\n', v,'\\nA的特征值为:\\n', value)\n",
    "print('QR算法求特征值'.center(50,'='))\n",
    "\n",
    "def is_same (a,b):\n",
    "    n = len(a)\n",
    "    for i in range(n):\n",
    "        if math.fabs(a[i]-b[i]) > 1e-10:\n",
    "            return False\n",
    "    return True\n",
    "\n",
    "times = 0\n",
    "b = a\n",
    "while (times==0) or (not is_same(np.diag(b), v)):\n",
    "    v = np.diag(b)\n",
    "    q,r = np.linalg.qr(b)\n",
    "    b = np.dot(r,q)\n",
    "    times += 1\n",
    "    \n",
    "print('迭代次数：\\n', times,'\\n特征值：\\n', np.diag(b))\n",
    "print('end'.center(50,'='))"
   ]
  },
  {
   "cell_type": "markdown",
   "metadata": {},
   "source": [
    "### 3.2 QR分解求矩阵的逆\n",
    "\n",
    "原理：  \n",
    "\n",
    "$$\n",
    "A^{-1}=(QR)^{-1}=R^{-1}Q^{-1}=R^{-1}Q^{T}\n",
    "$$\n",
    "\n",
    "转换为求一个上三角矩阵的逆。"
   ]
  },
  {
   "cell_type": "markdown",
   "metadata": {},
   "source": [
    "https://www.zhihu.com/question/54455860 \n",
    "http://blog.csdn.net/xueyingxue001/article/details/51830188"
   ]
  }
 ],
 "metadata": {
  "kernelspec": {
   "display_name": "Python 3",
   "language": "python",
   "name": "python3"
  },
  "language_info": {
   "codemirror_mode": {
    "name": "ipython",
    "version": 3
   },
   "file_extension": ".py",
   "mimetype": "text/x-python",
   "name": "python",
   "nbconvert_exporter": "python",
   "pygments_lexer": "ipython3",
   "version": "3.6.3"
  }
 },
 "nbformat": 4,
 "nbformat_minor": 2
}
