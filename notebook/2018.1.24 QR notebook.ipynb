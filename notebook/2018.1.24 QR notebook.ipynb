{
 "cells": [
  {
   "cell_type": "code",
   "execution_count": 1,
   "metadata": {
    "collapsed": true
   },
   "outputs": [],
   "source": [
    "# -*- coding: utf-8 -*-\n",
    "import matplotlib as mpl\n",
    "import math as math\n",
    "import pandas as pd\n",
    "import numpy as np\n",
    "import scipy.stats as spstats\n",
    "import scipy as sp\n",
    "import matplotlib.pyplot as plt\n",
    "%matplotlib inline\n",
    "\n",
    "# import IPython.core.display as di\n",
    "# di.display_html('<script>jQuery(function() {if (jQuery(\"body.notebook_app\").length == 0) { jQuery(\".input_area\").toggle(); jQuery(\".prompt\").toggle();}});</script>', raw=True)"
   ]
  },
  {
   "cell_type": "markdown",
   "metadata": {},
   "source": [
    "# 2018.1.24 Notebook \n",
    "李曦嵘　　634602068@qq.com　　武汉大学电子信息学院"
   ]
  },
  {
   "cell_type": "markdown",
   "metadata": {},
   "source": [
    "## 3 QR分解的应用\n",
    "\n",
    "### 3.3 QR分解解决线性最小二乘问题\n",
    "\n",
    "对给定数据点$(X^i，Y^i)(i=0,1，…，m）$，在取定的函数类$Φ$中，求$p(x)∈Φ$，使误差的平方和$E^2$最小，$E^2=∑[p(X^i)-Y^i]^2$。从几何意义上讲，就是寻求与给定点 ${(X^i，Y^i)}(i=0,1，…，m）$的距离平方和为最小的曲线$y=p(x)$。函数$p(x)$称为拟合函数或最小二乘解，求拟合函数$p(x)$的方法称为曲线拟合的最小二乘法。\n",
    "\n",
    "最小二乘的矩阵形式：$Ax=b$，其中$A$为$n\\times k$的矩阵，$x$为$k\\times 1$的列向量，$b$为$n\\times 1$的列向量。如果$n>k$（方程的个数大于未知量的个数），这个方程系统称为欠定方程，如果$n<k$（方程的个数小于未知量的个数），这个系统就是超定方程。\n",
    "\n",
    "正常来看，这个超定方程是没有解的，但在数值计算领域，我们通常是计算$ \\min ||Ax-b||$，解出其中的$x$。比较直观的做法是求解$A^TAx=A^Tb $ 即 $x=(A^TA)^{-1}A^Tb$，但通常比较低效(因为当样本数量很大时需要求一个超大矩阵的逆)。其中一种常见的解法是对A进行QR分解（$A=QR$），其中$Q$是$n\\times k$正交矩阵（Orthonormal Matrix），$R$是$k\\times k$上三角矩阵（Upper Triangular Matrix），然后$min ||Ax-b|| = min ||QRx-b|| = min ||Rx-Q^Tb||$。\n",
    "\n",
    "对于超定方程$Ax=b$，在matlab里面有三种方法求解，一是用伪逆法求解，x=pinv(A)\\* b，二是用左除法求解，x=A\\b，三是用最小二乘法求解，x=lsqnonneg(A,b)。\n",
    "\n",
    "因此，对A进行QR分解后用MATLAB命令$x=R \\setminus (Q'*b）$可解得x。\n",
    ">- 如果A是一个n\\*n矩阵，B是一个n维列向量，或是有若干这样的列的矩阵，则A\\B就是采用高斯消去法求得的方程AX=B的解。  \n",
    "- 如果A接近奇异的，MATLAB将会给出警告信息。   \n",
    "- 如果A是一个m\\*n矩阵，其中m不等于n，B是一个m维列向量，或是由若干这样的列的矩阵，则X=A\\B是不定或超定方程组AX=B的最小二乘解。通过QR分解确定矩阵A的秩k，方程组的解X每一列最多只有k个非零元素。  \n",
    "- 如果k<n，方程的解是不唯一的，用矩阵除法求得的最小二乘解是这种类型解中范数最小的。\n",
    "\n",
    "[Wiki-Using for solution to linear inverse problems](https://en.wikipedia.org/wiki/QR_decomposition#Using_for_solution_to_linear_inverse_problems)"
   ]
  }
 ],
 "metadata": {
  "kernelspec": {
   "display_name": "Python 3",
   "language": "python",
   "name": "python3"
  },
  "language_info": {
   "codemirror_mode": {
    "name": "ipython",
    "version": 3
   },
   "file_extension": ".py",
   "mimetype": "text/x-python",
   "name": "python",
   "nbconvert_exporter": "python",
   "pygments_lexer": "ipython3",
   "version": "3.6.3"
  }
 },
 "nbformat": 4,
 "nbformat_minor": 2
}
