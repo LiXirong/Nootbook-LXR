{
 "cells": [
  {
   "cell_type": "code",
   "execution_count": 2,
   "metadata": {
    "collapsed": true
   },
   "outputs": [],
   "source": [
    "# -*- coding: utf-8 -*-\n",
    "import matplotlib as mpl\n",
    "import pandas as pd\n",
    "import numpy as np\n",
    "import scipy.stats as spstats\n",
    "import scipy as sp\n",
    "import matplotlib.pyplot as plt\n",
    "%matplotlib inline"
   ]
  },
  {
   "cell_type": "markdown",
   "metadata": {},
   "source": [
    "# 2018.1.17 Notebook \n",
    "李曦嵘　　634602068@qq.com　　武汉大学电子信息学院\n"
   ]
  },
  {
   "cell_type": "markdown",
   "metadata": {},
   "source": [
    "# 12 Support Vector Machines\n",
    "## 12.1 Optimization Objective\n",
    "先回顾一下逻辑回归：\n",
    "\n",
    "$$\n",
    "h_\\theta(x) = \\frac{1}{1+e^{-\\theta^T x}} \\tag1\n",
    "$$  \n",
    "\n",
    "<img src=\"http://img.blog.csdn.net/20170531165409816?watermark/2/text/aHR0cDovL2Jsb2cuY3Nkbi5uZXQvcXFfMjcwMDgwNzk=/font/5a6L5L2T/fontsize/400/fill/I0JBQkFCMA==/dissolve/70/gravity/SouthEast\" >  \n",
    "\n",
    "IF$y=1$, we want $h_{\\theta}(x) \\approx 1, \\theta ^Tx \\gg 0$  \n",
    "IF$y=0$, we want $h_{\\theta}(x) \\approx 0, \\theta ^Tx \\ll 0$  \n",
    "它的cost function（损失函数）为：\n",
    "\n",
    "$$\n",
    "J(\\theta) = \\frac{1}{m}[\\sum_{i=1}^m y^{(i)} (-logh_{\\theta}(x^{(i)})) + (1-y^{(i)})(-(log(1-h_\\theta(x^{(i)}))))] + \\frac{\\lambda}{2m}\\sum_{j=1}^{m}\\theta_j^2 \\tag2\n",
    "$$\n",
    "\n",
    "简化为：\n",
    "\n",
    "\\begin{align}\n",
    "J(\\theta) &= -(ylogh_{\\theta}(x)+(1-y)log(1-h_{\\theta}(x))) \\\\\n",
    "&= -ylog \\frac{1}{1+e^{-\\theta^Tx}}-(1-y)log(1-\\frac{1}{1+e^{-\\theta^Tx}}) \\tag3\n",
    "\\end{align}  \n",
    "\n",
    "我们看下在SVM中对costfunction的改变：  \n",
    "\n",
    "<img src=\"http://img.blog.csdn.net/20170531171026355?watermark/2/text/aHR0cDovL2Jsb2cuY3Nkbi5uZXQvcXFfMjcwMDgwNzk=/font/5a6L5L2T/fontsize/400/fill/I0JBQkFCMA==/dissolve/70/gravity/SouthEast\" >\n",
    "\n",
    "将其中log函数部分换成了蓝色折线所代表的cost函数。  \n",
    "cost function也相应的改变为：\n",
    "\n",
    "$$\n",
    "J(\\theta) = \\frac{1}{m}[\\sum_{i=1}^m y^{(i)} Cost_1(\\theta^Tx^{(i)}) + (1-y^{(i)})Cost_0(\\theta^Tx^{(i)})] + \\frac{\\lambda}{2m}\\sum_{j=1}^{m}\\theta_j^2 \\tag4\n",
    "$$  \n",
    "\n",
    "在SVM中，我们常常用C代替λ：\n",
    "\n",
    "$$\n",
    "J(\\theta) = C\\sum_{i=1}^m [y^{(i)} Cost_1(\\theta^Tx^{(i)}) + (1-y^{(i)})Cost_0(\\theta^Tx^{(i)})] + \\frac{1}{2}\\sum_{j=1}^{m}\\theta_j^2 \\tag5\n",
    "$$"
   ]
  },
  {
   "cell_type": "markdown",
   "metadata": {},
   "source": [
    "## 12.2 Large Margin Intuition\n",
    "cost function：\n",
    "$$\n",
    "J(\\theta) = C\\sum_{i=1}^m [y^{(i)} Cost_1(\\theta^Tx^{(i)}) + (1-y^{(i)})Cost_0(\\theta^Tx^{(i)})] + \\frac{1}{2}\\sum_{j=1}^{m}\\theta_j^2 \\tag5\n",
    "$$\n",
    "\n",
    "和逻辑回归相比：  \n",
    "IF$y=1$, we want $ \\theta ^Tx \\gg 1$（not just$ \\gg 0$）  \n",
    "IF$y=0$, we want $ \\theta ^Tx \\ll -1$（not just$ \\ll 0$）  \n",
    "\n",
    "当C非常大时，我们希望蓝色的这部分为0：\n",
    "\n",
    "<img src=\"http://img.blog.csdn.net/20170531180132224?watermark/2/text/aHR0cDovL2Jsb2cuY3Nkbi5uZXQvcXFfMjcwMDgwNzk=/font/5a6L5L2T/fontsize/400/fill/I0JBQkFCMA==/dissolve/70/gravity/SouthEast\">\n",
    "\n",
    "即\n",
    "\n",
    "$$\n",
    "\\min\\limits_{\\theta}\\frac{1}{2}\\sum_{i=1}^{n}\\theta_j^2 \\\\\n",
    "\\theta^Tx^{(i)} \\ge +1　　\\text if y^{(i)}=1 \\\\\n",
    "\\theta^Tx^{(i)} \\le -1　　\\text if y^{(i)}=0 \\\\\n",
    "$$\n",
    "\n",
    "归结起来为一个条件极值问题。   \n",
    "\n",
    "SVM通过寻找分类中淡黄色背景的那条线作为边界，而不是其余满足条件的边界，因此SVM又被称为大间隔分类器（large margin）。\n",
    "<figure class=\"half\">\n",
    "    <img src=\"http://img.blog.csdn.net/20170531180700686?watermark/2/text/aHR0cDovL2Jsb2cuY3Nkbi5uZXQvcXFfMjcwMDgwNzk=/font/5a6L5L2T/fontsize/400/fill/I0JBQkFCMA==/dissolve/70/gravity/SouthEast\" width = \"300\"/>\n",
    "    <img src=\"http://img.blog.csdn.net/20170531181014409?watermark/2/text/aHR0cDovL2Jsb2cuY3Nkbi5uZXQvcXFfMjcwMDgwNzk=/font/5a6L5L2T/fontsize/400/fill/I0JBQkFCMA==/dissolve/70/gravity/SouthEast\" width = \"300\"/>\n",
    "</figure>"
   ]
  },
  {
   "cell_type": "code",
   "execution_count": null,
   "metadata": {
    "collapsed": true
   },
   "outputs": [],
   "source": []
  }
 ],
 "metadata": {
  "kernelspec": {
   "display_name": "Python 3",
   "language": "python",
   "name": "python3"
  },
  "language_info": {
   "codemirror_mode": {
    "name": "ipython",
    "version": 3
   },
   "file_extension": ".py",
   "mimetype": "text/x-python",
   "name": "python",
   "nbconvert_exporter": "python",
   "pygments_lexer": "ipython3",
   "version": "3.6.3"
  }
 },
 "nbformat": 4,
 "nbformat_minor": 2
}
