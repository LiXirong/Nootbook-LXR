{
 "cells": [
  {
   "cell_type": "code",
   "execution_count": 2,
   "metadata": {
    "collapsed": true
   },
   "outputs": [],
   "source": [
    "# -*- coding: utf-8 -*-"
   ]
  },
  {
   "cell_type": "markdown",
   "metadata": {},
   "source": [
    "# 2018.1.15 Notebook 机器学习诊疗法\n",
    "李曦嵘　　634602068@qq.com　　武汉大学电子信息学院"
   ]
  },
  {
   "cell_type": "markdown",
   "metadata": {},
   "source": [
    "## 10.2 Evaluating a hypothesis\n",
    "\n",
    "\n",
    "![](http://img.blog.csdn.net/20170514214916441?watermark/2/text/aHR0cDovL2Jsb2cuY3Nkbi5uZXQvcXFfMjcwMDgwNzk=/font/5a6L5L2T/fontsize/400/fill/I0JBQkFCMA==/dissolve/70/gravity/SouthEast)\n",
    "\n",
    "我们通过将数据集分成训练集和测试集，将训练集训练出的参数用测试集数据测试性能。  \n",
    "线性回归时：  \n",
    "\n",
    "$$\n",
    "J_{test}(\\theta) = \\frac{1}{2m_{test}}\\sum_{i=1}^{m_{test}}(h_\\theta(x^{(i)}_{test}) - y^{(i)}_{test}) ^ 2 \\tag1\\\n",
    "$$\n",
    "\n",
    "逻辑回归时：  \n",
    "$$\n",
    "J_{test}(\\theta) = -\\frac{1}{2m_{test}}\\sum_{i=1}^{m_{test}}y^{(i)}_{test}log(h_{\\theta}(x^{(i)}_{test})) + (1-y^{(i)}_{test})log(1-h_{\\theta}(x^{(i)}_{test}))  \\tag2\\\n",
    "$$"
   ]
  },
  {
   "cell_type": "markdown",
   "metadata": {},
   "source": [
    "## 10.3 Model selection and training/validation/test sets\n",
    "\n",
    "在多项式回归时，我们可以把数据集分为三类，训练集，交叉验证集和测试集，用交叉验证集来作为评判选择的标准，选择合适的模型，而测试集则是作为算法性能的评判。  \n",
    "![](http://img.blog.csdn.net/20170518160647375?watermark/2/text/aHR0cDovL2Jsb2cuY3Nkbi5uZXQvcXFfMjcwMDgwNzk=/font/5a6L5L2T/fontsize/400/fill/I0JBQkFCMA==/dissolve/70/gravity/SouthEast)"
   ]
  },
  {
   "cell_type": "markdown",
   "metadata": {},
   "source": [
    "## 10.4 Diagnoising Bias vs Variance\n",
    "\n",
    "![](http://img.blog.csdn.net/20170518163134691?watermark/2/text/aHR0cDovL2Jsb2cuY3Nkbi5uZXQvcXFfMjcwMDgwNzk=/font/5a6L5L2T/fontsize/400/fill/I0JBQkFCMA==/dissolve/70/gravity/SouthEast\")\n",
    "上面的图分别表示了高偏差，刚好，高方差。  \n",
    "\n",
    "Training error:\n",
    "\n",
    "\\begin{align}\n",
    "J_{train}(\\theta)&=\\frac{1}{2m}\\sum_{i=1}^m(h_{\\theta}(x^{(i)}-y^{(i)})^2  \\tag3\\\n",
    "\\end{align}\n",
    "\n",
    "Cross validation error:\n",
    "\\begin{align}\n",
    "J_{cv}(\\theta)&=\\frac{1}{2m_{cv}}\\sum_{i=1}^m(h_{\\theta}(x_{cv}^{(i)}-y_{cv}^{(i)})^2  \\tag4\\\n",
    "\\end{align}  \n",
    "\n",
    "<img src=\"http://img.blog.csdn.net/20170518221048066?watermark/2/text/aHR0cDovL2Jsb2cuY3Nkbi5uZXQvcXFfMjcwMDgwNzk=/font/5a6L5L2T/fontsize/400/fill/I0JBQkFCMA==/dissolve/70/gravity/SouthEast\">  \n",
    "\n",
    "欠拟合时，$J_{train}(\\theta) \\approx J_{cv}(\\theta)$且都很大；过拟合时$J_{cv}(\\theta) \\gg J_{train}(\\theta)$且$J_{train}(\\theta)$很小。\n",
    "\n"
   ]
  },
  {
   "cell_type": "markdown",
   "metadata": {},
   "source": [
    "## 10.5 Regularization and Bias/Variance\n",
    "\n",
    "### 10.5.1 Linear regression with regularization\n",
    "Modle:\n",
    "\n",
    "\\begin{align}\n",
    "h_{\\theta}(x)&=\\theta_0 + \\theta_1x^1 + \\theta_2x^2 +\\theta_3x^3 +\\theta_4x^4 \\tag5\\ \\\\\n",
    "J(\\theta)&=\\frac{1}{2m}\\sum_{i=1}^m(h_{\\theta}(x^{(i)}-y^{(i)})^2 + \\frac{\\lambda}{2m}\\sum_{j=1}^m\\theta_j^2 \\tag6\\ \n",
    "\\end{align} \n",
    "\n",
    "当$\\lambda$过大时，$\\theta_1、\\theta_2、\\theta_3、\\theta_4$都被极大地惩罚，使得他们的值接近为0，这样$h_{\\theta} \\approx \\theta_0$，模型欠拟合；  \n",
    "当$\\lambda$过小时，通常会得到大方差或者说过拟合的结果，当$\\lambda = 0 $时相当于没有正则化；\n",
    "\n",
    "### 10.5.2 Choosing the regularization parameter $\\lambda$\n",
    "Define:\n",
    "\n",
    "\\begin{align}\n",
    "J_{train}(\\theta)&=\\frac{1}{2m}\\sum_{i=1}^m(h_{\\theta}(x^{(i)}-y^{(i)})^2    &\\text{训练误差} \\tag7\\ \\\\\n",
    "J_{cv}(\\theta)&=\\frac{1}{2m_{cv}}\\sum_{i=1}^{m_{cv}}(h_{\\theta}(x_{cv}^{(i)}-y_{cv}^{(i)})^2 &\\text{交叉验证误差}  \\tag8\\ \\\\\n",
    "J_{test}(\\theta)&=\\frac{1}{2m_{test}}\\sum_{i=1}^{m_{test}}(h_{\\theta}(x_{test}^{(i)}-y_{test}^{(i)})^2 &\\text{测试误差} \\tag9\\ \n",
    "\\end{align} \n",
    "\n",
    "Modle：\n",
    "\n",
    "\\begin{align}\n",
    "h_{\\theta}(x)&=\\theta_0 + \\theta_1x^1 + \\theta_2x^2 +\\theta_3x^3 +\\theta_4x^4 \\tag5\\ \\\\\n",
    "J(\\theta)&=\\frac{1}{2m}\\sum_{i=1}^m(h_{\\theta}(x^{(i)}-y^{(i)})^2 + \\frac{\\lambda}{2m}\\sum_{j=1}^m\\theta_j^2 \\tag6\\ \n",
    "\\end{align} \n",
    "\n",
    "1、Try $\\lambda = 0$  \n",
    "2、Try $\\lambda = 0.01$  \n",
    "3、Try $\\lambda = 0.02$  \n",
    "4、Try $\\lambda = 0.04$  \n",
    "5、Try $\\lambda = 0.08$  \n",
    "　　　$\\vdots$  \n",
    "12、Try $\\lambda = 10$  \n",
    "得到不同值的$\\lambda$，代入这些$\\lambda$到（6）求出使得$J(\\theta)$最小的$\\theta$值。然后将这些$\\theta$值分别代入式（8）进行比较。交叉验证误差最小的$\\lambda$即为所选用的$\\lambda$。\n",
    "\n",
    "### 10.5.3 Bias/variance as a function of the regularization parameter $\\lambda$\n",
    "\n",
    "\\begin{align}\n",
    "J(\\theta)&=\\frac{1}{2m}\\sum_{i=1}^m(h_{\\theta}(x^{(i)}-y^{(i)})^2 + \\frac{\\lambda}{2m}\\sum_{j=1}^m\\theta_j^2 \\tag6\\ \\\\\n",
    "J_{train}(\\theta)&=\\frac{1}{2m}\\sum_{i=1}^m(h_{\\theta}(x^{(i)}-y^{(i)})^2    &\\text{训练误差} \\tag7\\ \\\\\n",
    "J_{cv}(\\theta)&=\\frac{1}{2m_{cv}}\\sum_{i=1}^{m_{cv}}(h_{\\theta}(x_{cv}^{(i)}-y_{cv}^{(i)})^2 &\\text{交叉验证误差}  \\tag8\\ \n",
    "\\end{align}  \n",
    "\n",
    "<img src=\"http://img.blog.csdn.net/20170518223443303?watermark/2/text/aHR0cDovL2Jsb2cuY3Nkbi5uZXQvcXFfMjcwMDgwNzk=/font/5a6L5L2T/fontsize/400/fill/I0JBQkFCMA==/dissolve/70/gravity/SouthEast\">  \n",
    "\n",
    "$J_{train}(\\theta)$随$\\lambda$的增大而增大（即$\\lambda$小的时候训练样本过拟合，$\\lambda$大的时候训练样本欠拟合）；  \n",
    "$J_{cv}(\\theta)$先随$\\lambda$的增大而减小，再随$\\lambda$的增大而增大（即欠拟合或过拟合都会导致$J_{cv}(\\theta)$变大）；"
   ]
  },
  {
   "cell_type": "markdown",
   "metadata": {
    "collapsed": true
   },
   "source": [
    "https://www.bilibili.com/video/av9912938/#page=62  \n",
    "https://www.bilibili.com/video/av9912938/#page=63"
   ]
  }
 ],
 "metadata": {
  "kernelspec": {
   "display_name": "Python 3",
   "language": "python",
   "name": "python3"
  },
  "language_info": {
   "codemirror_mode": {
    "name": "ipython",
    "version": 3
   },
   "file_extension": ".py",
   "mimetype": "text/x-python",
   "name": "python",
   "nbconvert_exporter": "python",
   "pygments_lexer": "ipython3",
   "version": "3.6.3"
  }
 },
 "nbformat": 4,
 "nbformat_minor": 2
}
