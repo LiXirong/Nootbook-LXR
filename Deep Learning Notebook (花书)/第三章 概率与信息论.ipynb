{
 "cells": [
  {
   "cell_type": "code",
   "execution_count": 4,
   "metadata": {
    "ExecuteTime": {
     "end_time": "2019-04-12T09:16:26.249150Z",
     "start_time": "2019-04-12T09:16:26.243152Z"
    }
   },
   "outputs": [],
   "source": [
    "# -*- coding: utf-8 -*-\n",
    "import matplotlib.pyplot as plt\n",
    "import numpy as np\n",
    "import math\n",
    "%matplotlib inline"
   ]
  },
  {
   "cell_type": "markdown",
   "metadata": {},
   "source": [
    "# 第三章 概率与信息论\n",
    "李曦嵘  \n",
    "634602068@qq.com  \n",
    "武汉大学电子信息学院  \n",
    "2019.4.10"
   ]
  },
  {
   "cell_type": "markdown",
   "metadata": {},
   "source": [
    "## 为什么要使用概率"
   ]
  },
  {
   "cell_type": "markdown",
   "metadata": {},
   "source": [
    "## 随机变量\n"
   ]
  },
  {
   "cell_type": "markdown",
   "metadata": {},
   "source": [
    "## 概率分布\n",
    "\n",
    "\n",
    "### 离散型变量和概率质量函数（probability mass function, PMF）\n",
    "如果一个函数$P$是随机变量$x$的PMF，必须满足下面几个条件：\n",
    "- $P$的定义域必须是$x$所有可能状态的集合。\n",
    "- $\\forall x \\in X, 0\\le P(x)\\le1$。\n",
    "- $\\sum_{x\\in X}{P(x)}=1$。\n",
    "\n",
    "### 连续型变量和概率密度函数（probability density function, PDF）\n",
    "如果一个函数$P$是PDF，必须满足下面几个条件：\n",
    "- $P$的定义域必须是$x$所有可能状态的集合。\n",
    "- $\\forall x \\in X, 0\\le P(x)$。\n",
    "- $\\int{p(x)}dx=1$。"
   ]
  },
  {
   "cell_type": "markdown",
   "metadata": {},
   "source": [
    "## 边缘概率\n",
    "\n",
    "### 联合概率分布（joint probability distribution）\n",
    "多个随机变量的分布称为联合概率分布，如$P(x = a,y=b)$，表示$x = a$和$y = b$同时发生的概率。也可记为$P(x,y)$。\n",
    "### 边缘概率分布（marginal probability distribution）\n",
    "定义在子集上的概率分布被称为边缘概率分布。\n",
    "例如，假设有离散型随机变量$x$和$y$，并且我们知道$P(x,y)$。我们可以依据下面的**求和法则**（sum rule）来计算$P(x)$：\n",
    "\\begin{aligned}\n",
    "\\forall x\\in X, P(X=x)=\\sum_y{P(X=x,Y=y)}\n",
    "\\end{aligned}\n",
    "\n",
    "对于离散型随机变量：\n",
    "\\begin{aligned}\n",
    "p(x)=\\int p(x,y)dy\n",
    "\\end{aligned}"
   ]
  },
  {
   "cell_type": "markdown",
   "metadata": {},
   "source": [
    "## 条件概率\n",
    "\n",
    "在已知某事件发生的条件下，另一事件发生概率，被称为条件概率。\n",
    "\n",
    "将给定$X=x$条件下，$Y=y$发生的条件概率记为$P(Y=y|X=x)$。\n",
    "这个条件概率可通过下面的公式计算：\n",
    "\\begin{aligned}\n",
    "P(Y=y\\mid X=x)=\\frac{P(Y=y,X=y)}{P(X=x)}\n",
    "\\end{aligned}\n"
   ]
  },
  {
   "cell_type": "markdown",
   "metadata": {},
   "source": [
    "## 条件概率的链式法则\n",
    "任何多维随机变量的联合概率分布，都可以分解成只有一个变量的条件概率相乘的形式：\n",
    "\\begin{aligned}\n",
    "P(x^{(1)},\\cdots,x^{(n)})=P(x^{(1)})\\prod_{i=2}^n P(x^{(i)}\\mid x^{(1)},\\cdots,x^{(i)})\n",
    "\\end{aligned}\n",
    "\n",
    "这个规则被称为**链式法则**（chain rule）或者**乘法法则**（product rule）。它可以直接从条件概率的定义中得到。\n",
    "\n",
    "例如：\n",
    "\\begin{aligned}\n",
    "P(a,b,c)&=P(a\\mid b,c)P(b,c)\\\\\n",
    "P(b,c)&=P(b\\mid c)P(c)\\\\\n",
    "P(a,b,c)&=P(a\\mid b,c)P(b\\mid c)p(c)\n",
    "\\end{aligned}"
   ]
  },
  {
   "cell_type": "markdown",
   "metadata": {},
   "source": [
    "## 独立性和条件独立性\n",
    "\n",
    "两个随机变量$x$和$y$，如果它们的概率分布可以表示成两个因子的乘积形式，并且一个因子只包含$x$另一个因子只包含$y$，我们就称这两个随机变量是**相互独立的**（independent）：\n",
    "\\begin{aligned}\n",
    "\\forall x \\in X , y\\in Y,p(X=x,Y=y)=p(X=x)p(Y=y)\n",
    "\\end{aligned}\n",
    "如果关于$x$和$y$的条件概率分布对于$z$的每一个值都可以写成乘积的形式，那么这两个随机变量$x$和$y$在给定随机变量$z$时是**条件独立的**（conditionally independent）：\n",
    "\\begin{aligned}\n",
    "\\forall x \\in X , y\\in Y,z\\in Z, p(X=x,Y=y\\mid Z=z)=p(X=x\\mid Z=z)p(Y=y\\mid Z=z)\n",
    "\\end{aligned}\n",
    "我们可以采用一种简化形式来表示独立性和条件独立性：$x\\perp y$表示$x$和$y$相互独立，$x\\perp y \\mid z $表示$x$和$y$在给定$z$时条件独立。"
   ]
  },
  {
   "cell_type": "markdown",
   "metadata": {},
   "source": [
    "## 期望、方差和协方差\n",
    "\n",
    "**期望**：\n",
    "\n",
    "即均值\n",
    "\\begin{aligned}\n",
    "\\mathbb{E}_{X\\sim P}[f(x)]&=\\sum_xP(x)f(x) \\\\\n",
    "\\mathbb{E}_{X\\sim P}[f(x)]&=\\int p(x)f(x)dx\n",
    "\\end{aligned}\n",
    "期望是线性的：\n",
    "\\begin{aligned}\n",
    "\\mathbb{E}_{X\\sim P}[\\alpha f(x)+\\beta g(x)]&=\\alpha \\mathbb{E}_{X\\sim P}[f(x)] + beta \\mathbb{E}_{X\\sim P}[g(x)]\n",
    "\\end{aligned}\n",
    "其中$\\alpha$、$\\beta$不依赖与$x$。\n",
    "\n",
    "**方差**：\n",
    "\n",
    "衡量变量的差异\n",
    "\\begin{aligned}\n",
    "Var\\big(f(x)\\big)=\\mathbb{E}\\big[(f(x)-\\mathbb{E}[f(x)])^2 \\big]\n",
    "\\end{aligned}\n",
    "\n",
    "\n",
    "**协方差**：\n",
    "\n",
    "给出两个变量的线性相关程度\n",
    "\\begin{aligned}\n",
    "Cov\\big(f(x),g(y)\\big)=\\mathbb{E}\\big[(f(x)-\\mathbb{E}[f(x)])(g(y)-\\mathbb{E}g(y)) \\big]\n",
    "\\end{aligned}\n",
    "\n",
    "随机向量$x\\in \\mathbb{R}^n$的协方差矩阵是一个$n\\times n$的矩阵，并且满足:\n",
    "\\begin{aligned}\n",
    "Cov(X)_ {i,j} =Cov(X_i,X_j) \n",
    "\\end{aligned}\n",
    "协方差矩阵的对角元是方差：\n",
    "\\begin{aligned}\n",
    "Cov(X_i,X_i) =Var(X_i) \n",
    "\\end{aligned}\n"
   ]
  },
  {
   "cell_type": "markdown",
   "metadata": {},
   "source": [
    "## 常用概率分布\n",
    "\n",
    "### Bernoulli 分布\n",
    "伯努利分布（Bernoulli distribution）是单个二值随机变量的分布。它由单个参数$\\phi \\in[0; 1] $控制，$\\phi$ 给出了随机变量等于1 的概率。它具有如下的一些性质：\n",
    "\\begin{aligned}\n",
    "&P(X=1)=\\phi \\\\\n",
    "&P(X=0)=1-\\phi \\\\\n",
    "&P(X=x)=\\phi ^x(1-\\phi)^{1-x} \\\\\n",
    "&\\mathbb{E}[X]=\\phi \\\\\n",
    "&Var_X(X)=\\phi(1-\\phi)\n",
    "\\end{aligned}\n",
    "### Multinoulli 分布\n",
    "多重伯努利分布（multinoulli distribution）或者范畴分布（categorical distribution）是指在具有k 个不同状态的单个离散型随机变量上的分布，其中k 是一个有限值。\n",
    "\n",
    "Bernoulli 分布和Multinoulli 分布足够用来描述在它们领域内的任意分布。它们能够描述这些分布，不是因为它们特别强大，而是因为它们的领域很简单；它们可以对那些，能够将所有的状态进行枚举的离散型随机变量进行建模。当处理的是连续型随机变量时，会有不可数无限多的状态，所以任何通过少量参数描述的概率分布都必须在分布上加以严格的限制。\n",
    "\n",
    "### 高斯分布\n",
    "实数上最常用的分布就是正态分布（normal distribution），也称为高斯分布（Gaussian distribution）：\n",
    "\\begin{aligned}\n",
    "\\mathcal N(x:\\mu ,\\sigma^2)=\\sqrt{\\frac{1}{2\\pi \\sigma^2}}\\exp(-\\frac{1}{2\\pi\\sigma^2}(x-\\mu)^2)\n",
    "\\end{aligned}\n",
    "\n",
    "### 指数分布和Laplace 分布\n",
    "在深度学习中，我们经常会需要一个在x = 0 点处取得边界点(sharp point) 的分布。为了实现这一目的，我们可以使用指数分布（exponential distribution）：\n",
    "\\begin{aligned}\n",
    "p(x;\\lambda)=\\lambda 1_{x\\ge 0}\\exp(-\\lambda x)\n",
    "\\end{aligned}\n",
    "指数分布使用指示函数(indicator function)$1_{x\\ge0}$ 来使得当$x$取负值时的概率为零。\n",
    "\n",
    "一个联系紧密的概率分布是Laplace 分布（Laplace distribution），它允许我们在任意一点$\\mu$处设置概率质量的峰值：\n",
    "\\begin{aligned}\n",
    "Laplace(x;\\mu ,\\gamma)=\\frac{1}{2\\gamma}\\exp(-\\frac{\\mid x-\\mu\\mid}{\\gamma})\n",
    "\\end{aligned}\n",
    "\n",
    "### Dirac 分布和经验分布\n",
    "\n",
    "\n",
    "### 分布的混合"
   ]
  },
  {
   "cell_type": "markdown",
   "metadata": {},
   "source": [
    "## 常用函数的有用性质\n",
    "\n",
    "### logistic sigmoid 函数\n",
    "\n",
    "\\begin{aligned}\n",
    "\\sigma(x)=\\frac{1}{1+\\exp(-x)}\n",
    "\\end{aligned}\n",
    "logistic sigmoid 函数通常用来产生Bernoulli 分布中的参数$\\phi$，因为它的范围是$(0; 1)$，处在$\\phi$的有效取值范围内。sigmoid 函数在变量取绝对值非常大的正值或负值时会出现饱和（saturate）现象，意味着函数会变得很平，并且对输入的微小改变会变得不敏感。\n",
    "\n",
    "### softplus 函数\n",
    "\\begin{aligned}\n",
    "\\zeta(x)=\\log (1+\\exp(x))\n",
    "\\end{aligned}\n",
    "softplus 函数可以用来产生正态分布的$\\beta$和$\\mu$参数，因为它的范围是$(0;1)$。当处理包含sigmoid 函数的表达式时它也经常出现。softplus 函数名来源于它是另外一个函数的平滑（或\"软化\"）形式，这个函数是\n",
    "\\begin{aligned}\n",
    "x^+=max(0,x)\n",
    "\\end{aligned}"
   ]
  },
  {
   "cell_type": "code",
   "execution_count": 48,
   "metadata": {
    "ExecuteTime": {
     "end_time": "2019-04-12T09:30:26.477539Z",
     "start_time": "2019-04-12T09:30:26.326626Z"
    },
    "hide_input": true
   },
   "outputs": [
    {
     "data": {
      "image/png": "[encoded data removed]",
      "text/plain": [
       "<Figure size 432x288 with 2 Axes>"
      ]
     },
     "metadata": {},
     "output_type": "display_data"
    }
   ],
   "source": [
    "x = np.linspace(-10, 10, 100)\n",
    "sigmoid = 1/(1 + np.exp(-x))\n",
    "softplus = np.log(1 + np.exp(x))\n",
    "plt.figure()\n",
    "plt.subplot(2, 1, 1)\n",
    "plt.plot(x, sigmoid)\n",
    "plt.legend(['sigmoid'], loc='upper left')\n",
    "plt.subplot(2, 1, 2)\n",
    "plt.plot(x, softplus)\n",
    "plt.legend(['softplus'], loc='upper left')\n",
    "plt.show()"
   ]
  },
  {
   "cell_type": "markdown",
   "metadata": {},
   "source": [
    "## 贝叶斯规则\n",
    "\\begin{aligned}\n",
    "P(x\\mid y)&=\\frac{P(x)P(y\\mid x)}{P(y)} \\\\\n",
    "&=\\frac{P(x)P(y\\mid x)}{\\sum_x{P(y\\mid x)P(x)}}\n",
    "\\end{aligned}"
   ]
  },
  {
   "cell_type": "markdown",
   "metadata": {},
   "source": [
    "## 连续性变量的技术细节"
   ]
  },
  {
   "cell_type": "markdown",
   "metadata": {},
   "source": [
    "## 信息论"
   ]
  },
  {
   "cell_type": "markdown",
   "metadata": {},
   "source": [
    "## 结构化概率模型"
   ]
  },
  {
   "cell_type": "code",
   "execution_count": null,
   "metadata": {},
   "outputs": [],
   "source": []
  }
 ],
 "metadata": {
  "kernelspec": {
   "display_name": "Python 3",
   "language": "python",
   "name": "python3"
  },
  "language_info": {
   "codemirror_mode": {
    "name": "ipython",
    "version": 3
   },
   "file_extension": ".py",
   "mimetype": "text/x-python",
   "name": "python",
   "nbconvert_exporter": "python",
   "pygments_lexer": "ipython3",
   "version": "3.6.5"
  },
  "toc": {
   "base_numbering": 1,
   "nav_menu": {},
   "number_sections": true,
   "sideBar": true,
   "skip_h1_title": false,
   "title_cell": "Table of Contents",
   "title_sidebar": "Contents",
   "toc_cell": false,
   "toc_position": {},
   "toc_section_display": true,
   "toc_window_display": true
  },
  "varInspector": {
   "cols": {
    "lenName": 16,
    "lenType": 16,
    "lenVar": 40
   },
   "kernels_config": {
    "python": {
     "delete_cmd_postfix": "",
     "delete_cmd_prefix": "del ",
     "library": "var_list.py",
     "varRefreshCmd": "print(var_dic_list())"
    },
    "r": {
     "delete_cmd_postfix": ") ",
     "delete_cmd_prefix": "rm(",
     "library": "var_list.r",
     "varRefreshCmd": "cat(var_dic_list()) "
    }
   },
   "types_to_exclude": [
    "module",
    "function",
    "builtin_function_or_method",
    "instance",
    "_Feature"
   ],
   "window_display": false
  }
 },
 "nbformat": 4,
 "nbformat_minor": 2
}
