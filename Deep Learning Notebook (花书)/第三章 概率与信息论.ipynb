{
 "cells": [
  {
   "cell_type": "code",
   "execution_count": 81,
   "metadata": {
    "ExecuteTime": {
     "end_time": "2019-04-15T03:41:01.961994Z",
     "start_time": "2019-04-15T03:41:01.954999Z"
    }
   },
   "outputs": [],
   "source": [
    "# -*- coding: utf-8 -*-\n",
    "import matplotlib.pyplot as plt\n",
    "import numpy as np\n",
    "import math\n",
    "from scipy import stats\n",
    "%matplotlib inline\n",
    "plt.rcParams['font.family'] = ['sans-serif']\n",
    "plt.rcParams['font.sans-serif'] = ['SimHei']"
   ]
  },
  {
   "cell_type": "markdown",
   "metadata": {},
   "source": [
    "# 第三章 概率与信息论\n",
    "李曦嵘  \n",
    "634602068@qq.com  \n",
    "武汉大学电子信息学院  \n",
    "2019.4.10"
   ]
  },
  {
   "cell_type": "markdown",
   "metadata": {},
   "source": [
    "## 为什么要使用概率"
   ]
  },
  {
   "cell_type": "markdown",
   "metadata": {},
   "source": [
    "## 随机变量\n"
   ]
  },
  {
   "cell_type": "markdown",
   "metadata": {},
   "source": [
    "## 概率分布\n",
    "\n",
    "\n",
    "### 离散型变量和概率质量函数（probability mass function, PMF）\n",
    "如果一个函数$P$是随机变量$x$的PMF，必须满足下面几个条件：\n",
    "- $P$的定义域必须是$x$所有可能状态的集合。\n",
    "- $\\forall x \\in X, 0\\le P(x)\\le1$。\n",
    "- $\\sum_{x\\in X}{P(x)}=1$。\n",
    "\n",
    "### 连续型变量和概率密度函数（probability density function, PDF）\n",
    "如果一个函数$P$是PDF，必须满足下面几个条件：\n",
    "- $P$的定义域必须是$x$所有可能状态的集合。\n",
    "- $\\forall x \\in X, 0\\le P(x)$。\n",
    "- $\\int{p(x)}dx=1$。"
   ]
  },
  {
   "cell_type": "markdown",
   "metadata": {},
   "source": [
    "## 边缘概率\n",
    "\n",
    "### 联合概率分布（joint probability distribution）\n",
    "多个随机变量的分布称为联合概率分布，如$P(x = a,y=b)$，表示$x = a$和$y = b$同时发生的概率。也可记为$P(x,y)$。\n",
    "### 边缘概率分布（marginal probability distribution）\n",
    "定义在子集上的概率分布被称为边缘概率分布。\n",
    "例如，假设有离散型随机变量$x$和$y$，并且我们知道$P(x,y)$。我们可以依据下面的**求和法则**（sum rule）来计算$P(x)$：\n",
    "\\begin{aligned}\n",
    "\\forall x\\in X, P(X=x)=\\sum_y{P(X=x,Y=y)}\n",
    "\\end{aligned}\n",
    "\n",
    "对于离散型随机变量：\n",
    "\\begin{aligned}\n",
    "p(x)=\\int p(x,y)dy\n",
    "\\end{aligned}"
   ]
  },
  {
   "cell_type": "markdown",
   "metadata": {},
   "source": [
    "## 条件概率\n",
    "\n",
    "在已知某事件发生的条件下，另一事件发生概率，被称为条件概率。\n",
    "\n",
    "将给定$X=x$条件下，$Y=y$发生的条件概率记为$P(Y=y|X=x)$。\n",
    "这个条件概率可通过下面的公式计算：\n",
    "\\begin{aligned}\n",
    "P(Y=y\\mid X=x)=\\frac{P(Y=y,X=y)}{P(X=x)}\n",
    "\\end{aligned}\n"
   ]
  },
  {
   "cell_type": "markdown",
   "metadata": {},
   "source": [
    "## 条件概率的链式法则\n",
    "任何多维随机变量的联合概率分布，都可以分解成只有一个变量的条件概率相乘的形式：\n",
    "\\begin{aligned}\n",
    "P(x^{(1)},\\cdots,x^{(n)})=P(x^{(1)})\\prod_{i=2}^n P(x^{(i)}\\mid x^{(1)},\\cdots,x^{(i)})\n",
    "\\end{aligned}\n",
    "\n",
    "这个规则被称为**链式法则**（chain rule）或者**乘法法则**（product rule）。它可以直接从条件概率的定义中得到。\n",
    "\n",
    "例如：\n",
    "\\begin{aligned}\n",
    "P(a,b,c)&=P(a\\mid b,c)P(b,c)\\\\\n",
    "P(b,c)&=P(b\\mid c)P(c)\\\\\n",
    "P(a,b,c)&=P(a\\mid b,c)P(b\\mid c)p(c)\n",
    "\\end{aligned}"
   ]
  },
  {
   "cell_type": "markdown",
   "metadata": {},
   "source": [
    "## 独立性和条件独立性\n",
    "\n",
    "两个随机变量$x$和$y$，如果它们的概率分布可以表示成两个因子的乘积形式，并且一个因子只包含$x$另一个因子只包含$y$，我们就称这两个随机变量是**相互独立的**（independent）：\n",
    "\\begin{aligned}\n",
    "\\forall x \\in X , y\\in Y,p(X=x,Y=y)=p(X=x)p(Y=y)\n",
    "\\end{aligned}\n",
    "如果关于$x$和$y$的条件概率分布对于$z$的每一个值都可以写成乘积的形式，那么这两个随机变量$x$和$y$在给定随机变量$z$时是**条件独立的**（conditionally independent）：\n",
    "\\begin{aligned}\n",
    "\\forall x \\in X , y\\in Y,z\\in Z, p(X=x,Y=y\\mid Z=z)=p(X=x\\mid Z=z)p(Y=y\\mid Z=z)\n",
    "\\end{aligned}\n",
    "我们可以采用一种简化形式来表示独立性和条件独立性：$x\\perp y$表示$x$和$y$相互独立，$x\\perp y \\mid z $表示$x$和$y$在给定$z$时条件独立。"
   ]
  },
  {
   "cell_type": "markdown",
   "metadata": {},
   "source": [
    "## 期望、方差和协方差\n",
    "\n",
    "**期望**：\n",
    "\n",
    "即均值\n",
    "\\begin{aligned}\n",
    "\\mathbb{E}_{X\\sim P}[f(x)]&=\\sum_xP(x)f(x) \\\\\n",
    "\\mathbb{E}_{X\\sim P}[f(x)]&=\\int p(x)f(x)dx\n",
    "\\end{aligned}\n",
    "期望是线性的：\n",
    "\\begin{aligned}\n",
    "\\mathbb{E}_{X\\sim P}[\\alpha f(x)+\\beta g(x)]&=\\alpha \\mathbb{E}_{X\\sim P}[f(x)] + beta \\mathbb{E}_{X\\sim P}[g(x)]\n",
    "\\end{aligned}\n",
    "其中$\\alpha$、$\\beta$不依赖与$x$。\n",
    "\n",
    "**方差**：\n",
    "\n",
    "衡量变量的差异\n",
    "\\begin{aligned}\n",
    "Var\\big(f(x)\\big)=\\mathbb{E}\\big[(f(x)-\\mathbb{E}[f(x)])^2 \\big]\n",
    "\\end{aligned}\n",
    "\n",
    "\n",
    "**协方差**：\n",
    "\n",
    "给出两个变量的线性相关程度\n",
    "\\begin{aligned}\n",
    "Cov\\big(f(x),g(y)\\big)=\\mathbb{E}\\big[(f(x)-\\mathbb{E}[f(x)])(g(y)-\\mathbb{E}g(y)) \\big]\n",
    "\\end{aligned}\n",
    "\n",
    "随机向量$x\\in \\mathbb{R}^n$的协方差矩阵是一个$n\\times n$的矩阵，并且满足:\n",
    "\\begin{aligned}\n",
    "Cov(X)_ {i,j} =Cov(X_i,X_j) \n",
    "\\end{aligned}\n",
    "协方差矩阵的对角元是方差：\n",
    "\\begin{aligned}\n",
    "Cov(X_i,X_i) =Var(X_i) \n",
    "\\end{aligned}\n"
   ]
  },
  {
   "cell_type": "markdown",
   "metadata": {},
   "source": [
    "## 常用概率分布\n",
    "\n",
    "### Bernoulli 分布\n",
    "伯努利分布（Bernoulli distribution）是单个二值随机变量的分布。它由单个参数$\\phi \\in[0; 1] $控制，$\\phi$ 给出了随机变量等于1 的概率。它具有如下的一些性质：\n",
    "\\begin{aligned}\n",
    "&P(X=1)=\\phi \\\\\n",
    "&P(X=0)=1-\\phi \\\\\n",
    "&P(X=x)=\\phi ^x(1-\\phi)^{1-x} \\\\\n",
    "&\\mathbb{E}[X]=\\phi \\\\\n",
    "&Var_X(X)=\\phi(1-\\phi)\n",
    "\\end{aligned}\n",
    "### Multinoulli 分布\n",
    "多重伯努利分布（multinoulli distribution）或者范畴分布（categorical distribution）是指在具有k 个不同状态的单个离散型随机变量上的分布，其中k 是一个有限值。\n",
    "\n",
    "Bernoulli 分布和Multinoulli 分布足够用来描述在它们领域内的任意分布。它们能够描述这些分布，不是因为它们特别强大，而是因为它们的领域很简单；它们可以对那些，能够将所有的状态进行枚举的离散型随机变量进行建模。当处理的是连续型随机变量时，会有不可数无限多的状态，所以任何通过少量参数描述的概率分布都必须在分布上加以严格的限制。\n",
    "\n",
    "### 高斯分布\n",
    "实数上最常用的分布就是正态分布（normal distribution），也称为高斯分布（Gaussian distribution）：\n",
    "\\begin{aligned}\n",
    "\\mathcal N(x:\\mu ,\\sigma^2)=\\sqrt{\\frac{1}{2\\pi \\sigma^2}}\\exp(-\\frac{1}{2\\pi\\sigma^2}(x-\\mu)^2)\n",
    "\\end{aligned}\n",
    "\n",
    "### 指数分布和Laplace 分布\n",
    "在深度学习中，我们经常会需要一个在x = 0 点处取得边界点(sharp point) 的分布。为了实现这一目的，我们可以使用指数分布（exponential distribution）：\n",
    "\\begin{aligned}\n",
    "p(x;\\lambda)=\\lambda 1_{x\\ge 0}\\exp(-\\lambda x)\n",
    "\\end{aligned}\n",
    "指数分布使用指示函数(indicator function)$1_{x\\ge0}$ 来使得当$x$取负值时的概率为零。\n",
    "\n",
    "一个联系紧密的概率分布是Laplace 分布（Laplace distribution），它允许我们在任意一点$\\mu$处设置概率质量的峰值：\n",
    "\\begin{aligned}\n",
    "Laplace(x;\\mu ,\\gamma)=\\frac{1}{2\\gamma}\\exp(-\\frac{\\mid x-\\mu\\mid}{\\gamma})\n",
    "\\end{aligned}\n",
    "\n",
    "### Dirac 分布和经验分布\n",
    "\n",
    "\n",
    "### 分布的混合"
   ]
  },
  {
   "cell_type": "markdown",
   "metadata": {},
   "source": [
    "## 常用函数的有用性质\n",
    "\n",
    "### logistic sigmoid 函数\n",
    "\n",
    "\\begin{aligned}\n",
    "\\sigma(x)=\\frac{1}{1+\\exp(-x)}\n",
    "\\end{aligned}\n",
    "logistic sigmoid 函数通常用来产生Bernoulli 分布中的参数$\\phi$，因为它的范围是$(0; 1)$，处在$\\phi$的有效取值范围内。sigmoid 函数在变量取绝对值非常大的正值或负值时会出现饱和（saturate）现象，意味着函数会变得很平，并且对输入的微小改变会变得不敏感。\n",
    "\n",
    "### softplus 函数\n",
    "\\begin{aligned}\n",
    "\\zeta(x)=\\log (1+\\exp(x))\n",
    "\\end{aligned}\n",
    "softplus 函数可以用来产生正态分布的$\\beta$和$\\mu$参数，因为它的范围是$(0;1)$。当处理包含sigmoid 函数的表达式时它也经常出现。softplus 函数名来源于它是另外一个函数的平滑（或\"软化\"）形式，这个函数是\n",
    "\\begin{aligned}\n",
    "x^+=max(0,x)\n",
    "\\end{aligned}"
   ]
  },
  {
   "cell_type": "code",
   "execution_count": 55,
   "metadata": {
    "ExecuteTime": {
     "end_time": "2019-04-15T02:23:12.576833Z",
     "start_time": "2019-04-15T02:23:12.400934Z"
    },
    "hide_input": true
   },
   "outputs": [
    {
     "data": {
      "image/png": "[encoded data removed]",
      "text/plain": [
       "<Figure size 360x432 with 2 Axes>"
      ]
     },
     "metadata": {},
     "output_type": "display_data"
    }
   ],
   "source": [
    "x = np.linspace(-10, 10, 100)\n",
    "sigmoid = 1/(1 + np.exp(-x))\n",
    "softplus = np.log(1 + np.exp(x))\n",
    "plt.figure(figsize = (5,6))\n",
    "plt.subplot(2, 1, 1)\n",
    "plt.plot(x, sigmoid)\n",
    "plt.legend(['sigmoid'], loc='upper left')\n",
    "plt.subplot(2, 1, 2)\n",
    "plt.plot(x, softplus)\n",
    "plt.legend(['softplus'], loc='upper left')\n",
    "plt.show()"
   ]
  },
  {
   "cell_type": "markdown",
   "metadata": {},
   "source": [
    "## 贝叶斯规则\n",
    "\\begin{aligned}\n",
    "P(x\\mid y)&=\\frac{P(x)P(y\\mid x)}{P(y)} \\\\\n",
    "&=\\frac{P(x)P(y\\mid x)}{\\sum_x{P(y\\mid x)P(x)}}\n",
    "\\end{aligned}"
   ]
  },
  {
   "cell_type": "markdown",
   "metadata": {},
   "source": [
    "## 连续性变量的技术细节"
   ]
  },
  {
   "cell_type": "markdown",
   "metadata": {},
   "source": [
    "## 信息论\n",
    "\n",
    "我们想要通过这种基本想法来量化信息。特别地，\n",
    "- 非常可能发生的事件信息量要比较少，并且极端情况下，确保能够发生的事件应该没有信息量。\n",
    "- 较不可能发生的事件具有更高的信息量。\n",
    "- 独立事件应具有增量的信息。例如，投掷的硬币两次正面朝上传递的信息量，应该是投掷一次硬币正面朝上的信息量的两倍。\n",
    "\n",
    "为了满足上述三个性质，我们定义一个事件$X = x$ 的**自信息**（self-information）为\n",
    "\\begin{aligned}\n",
    "I(x)=-\\log P(x)\n",
    "\\end{aligned}\n",
    "在本书中，我们总是用$\\log$来表示自然对数，其底数为$e$。因此我们定义的$I(x)$单位是**奈特**（nats）。一奈特是以$\\frac{1}{e}$ 的概率观测到一个事件时获得的信息量。其他的材料中使用底数为$2$的对数，单位是**比特**（bit）或者**香农**（shannons）；通过比特度量的信息只是通过奈特度量信息的常数倍。\n",
    "\n",
    "自信息只处理单个的输出。我们可以用**香农熵**（Shannon entropy）来对整个概率分布中的不确定性总量进行量化：\n",
    "\\begin{aligned}\n",
    "H(x)=\\mathbb{E}_ {x\\sim P}[I(x)]=-\\mathbb{E}_ {x \\sim P}[ \\log P(x)]\n",
    "\\end{aligned}\n",
    "也记作$H(P)$。换言之，一个分布的香农熵是指遵循这个分布的事件所产生的期望信息总量。\n",
    "\n",
    "当$x$是连续的，香农熵被称为**微分熵**（differential entropy）。"
   ]
  },
  {
   "cell_type": "code",
   "execution_count": 71,
   "metadata": {
    "ExecuteTime": {
     "end_time": "2019-04-15T02:31:14.108848Z",
     "start_time": "2019-04-15T02:31:14.005907Z"
    },
    "hide_input": true
   },
   "outputs": [
    {
     "data": {
      "image/png": "[encoded data removed]",
      "text/plain": [
       "<Figure size 432x288 with 1 Axes>"
      ]
     },
     "metadata": {},
     "output_type": "display_data"
    }
   ],
   "source": [
    "p = np.linspace(1e-8,1-1e-8,100)\n",
    "entropy = (p-1)*np.log(1-p)-p*np.log(p)\n",
    "plt.figure()\n",
    "plt.plot(p,entropy)\n",
    "plt.title('二值随机变量的香农熵')\n",
    "plt.xlabel('p')\n",
    "plt.ylabel('Shannon entropy in nats')\n",
    "plt.show()"
   ]
  },
  {
   "cell_type": "markdown",
   "metadata": {},
   "source": [
    "如果我们对于同一个随机变量$x$有两个单独的概率分布$P(x)$和$Q(x)$，我们可以使用**KL散度**（Kullback-Leibler (KL) divergence）来衡量这两个分布的差异：\n",
    "\\begin{aligned}\n",
    "D_{KL}(P||Q)=\\mathbb E_{x\\sim P}\\bigg[\\log \\frac{P(x)}{Q(x)}\\bigg]=\\mathbb E_{x\\sim P}\\big[\\log {P(x)}-\\log{Q(x)}\\big]\n",
    "\\end{aligned}\n",
    "\n",
    "KL散度有很多有用的性质，最重要的是它是非负的。KL散度为$0$当且仅当$P$和$Q$在离散型变量的情况下是相同的分布，或者在连续型变量的情况下是“几乎处处”相同的。因为KL 散度是非负的并且衡量的是两个分布之间的差异，它经常被用作分布之间的某种距离。然而，它并不是真的距离因为它不是对称的：对于某些$P$和$Q$，$D_{KL}(P\\|Q)\\ne D_{KL}(Q\\|P)$。这种非对称性意味着选择$D_{KL}(P\\|Q) $还是$D_{KL}(Q\\|P)$ 影响很大。"
   ]
  },
  {
   "cell_type": "code",
   "execution_count": 84,
   "metadata": {
    "ExecuteTime": {
     "end_time": "2019-04-15T03:42:21.961311Z",
     "start_time": "2019-04-15T03:42:21.068827Z"
    },
    "hide_input": true
   },
   "outputs": [
    {
     "data": {
      "image/png": "[encoded data removed]",
      "text/plain": [
       "<Figure size 720x288 with 2 Axes>"
      ]
     },
     "metadata": {},
     "output_type": "display_data"
    }
   ],
   "source": [
    "x = np.linspace(1, 8, 1000)\n",
    "y1 = stats.norm.pdf(x, 3, 0.5)\n",
    "y2 = stats.norm.pdf(x, 6, 0.5)\n",
    "p = y1+y2\n",
    "KL_pq = []\n",
    "KL_qp = []\n",
    "q1 = []\n",
    "for mu in np.linspace(1, 8, 50):\n",
    "        for sigma in np.linspace(0.2, 8, 50):\n",
    "            q = stats.norm.pdf(x, mu, sigma)\n",
    "            KL_pq.append(stats.entropy(p, q))\n",
    "            q1.append(q)\n",
    "            KL_qp.append(stats.entropy(q, p))\n",
    "KL_pq = np.argmin(KL_pq)\n",
    "KL_qp = np.argmin(KL_qp)\n",
    "plt.figure(figsize=(10, 4))\n",
    "plt.subplot(1, 2, 1)\n",
    "plt.plot(x, p/2, 'b')\n",
    "plt.plot(x, q1[KL_pq], 'g--')\n",
    "plt.ylabel('$x$')\n",
    "plt.ylabel('$p(x)$')\n",
    "plt.title('$q^*= {arg\\min}_ q D_{KL}(p||q)$')\n",
    "plt.legend(['$p(x)$', '$q^*(x)$'], loc='upper right')\n",
    "plt.subplot(1, 2, 2)\n",
    "plt.plot(x, p/2, 'b')\n",
    "plt.plot(x, q1[KL_qp], 'g--')\n",
    "plt.ylabel('$x$')\n",
    "plt.ylabel('$p(x)$')\n",
    "plt.title('$q^*= {arg\\min}_ q D_{KL}(q||p)$')\n",
    "plt.legend(['$p(x)$', '$q^*(x)$'], loc='upper right')\n",
    "plt.show()"
   ]
  },
  {
   "cell_type": "markdown",
   "metadata": {},
   "source": [
    "一个和KL散度密切联系的量是**交叉熵**（cross-entropy）$H(P,Q) = H(P) +D_{KL}(P\\|Q)$，它和KL散度很像但是缺少左边一项：\n",
    "\\begin{aligned}\n",
    "H(P,Q)=-\\mathbb E_{x\\sim P}\\log{Q(x)}\n",
    "\\end{aligned}\n",
    "针对$Q$最小化交叉熵等价于最小化KL散度，因为$Q$并不参与被省略的那一项。\n",
    "\n",
    "当我们计算这些量时，经常会遇到$0 \\log{0}$ 这个表达式。按照惯例，在信息论中，我们将这个表达式处理为$\\lim _{x\\rightarrow0} x \\log x = 0$。"
   ]
  },
  {
   "cell_type": "markdown",
   "metadata": {},
   "source": [
    "## 结构化概率模型\n",
    "\n",
    "由一些可以通过边互相连接的顶点的集合构成。当我们用图来表示这种概率分布的分解，我们把它称为**结构化概率模型**（structured probabilistic model）或者**图模型**（graphical model）。\n",
    "\n",
    "有两种主要的结构化概率模型：有向的和无向的。两种图模型都使用图$\\mathcal G$，其中图的每个节点对应着一个随机变量，连接两个随机变量的边意味着概率分布可以表示成这两个随机变量之间的直接作用。\n",
    "\n",
    "**有向**（directed）模型使用带有有向边的图，它们用条件概率分布来表示分解，就像上面的例子。特别地，有向模型对于分布中的每一个随机变量$x_i$都包含着一个影响因子，这个组成$x_i$条件概率的影响因子被称为$x_i$ 的父节点，记为$Pa_\\mathcal G(x_i)$：\n",
    "\\begin{aligned}\n",
    "p(x)=\\prod_i{p(x_i\\mid Pa_\\mathcal G(x_i))}\n",
    "\\end{aligned}\n",
    "![](http://note.youdao.com/yws/public/resource/5bc34512386783dbf09467b2fc5c71e3/xmlnote/WEBRESOURCE834f18039c499358953aa44a8426fae6/43)\n",
    "上图（有向图）对应的概率分布可以分解为：\n",
    "\\begin{aligned}\n",
    "p(a,b,c,d,e)=p(a)p(b\\mid a)p(c\\mid a,b)p(d\\mid b)p(e\\mid c)\n",
    "\\end{aligned}\n",
    "\n",
    "**无向**（undirected）模型使用带有无向边的图，它们将分解表示成一组函数；不像有向模型那样，这些函数通常不是任何类型的概率分布。$\\mathcal G$ 中任何满足两两之间有边连接的顶点的集合被称为团。无向模型中的每个团$\\mathcal C^{(i)}$都伴随着一个因子$\\phi^{(i)}(\\mathcal C^{(i)})$。这些因子仅仅是函数，并不是概率分布。每个因子的输出都必须是非负的，但是并没有像概率分布中那样要求因子的和或者积分为1。\n",
    "\n",
    "随机变量的联合概率与所有这些因子的乘积成比例（proportional）——意味着因子的值越大则可能性越大。当然，不能保证这种乘积的求和为1。所以我们需要除以一个归一化常数$Z$来得到归一化的概率分布，归一化常数$Z$被定义为$\\phi$函数乘积的所有状态的求和或积分。概率分布为：\n",
    "\\begin{aligned}\n",
    "p(x)=\\frac{1}{Z}\\prod_i\\phi{(i)}(\\mathcal C^{(i)})\n",
    "\\end{aligned}\n",
    "\n",
    "![](http://note.youdao.com/yws/public/resource/5bc34512386783dbf09467b2fc5c71e3/xmlnote/WEBRESOURCEa7aa2df278e35baaa38a79279fe5da24/49)\n",
    "上图（无向图）对应的概率分布可以分解为：\n",
    "\\begin{aligned}\n",
    "p(a,b,c,d,e)=\\frac{1}{Z}\\phi^{(1)}(a,b,c)\\phi^{(2)}(b,d)\\phi^{(3)}(c,e)\n",
    "\\end{aligned}\n"
   ]
  },
  {
   "cell_type": "code",
   "execution_count": null,
   "metadata": {},
   "outputs": [],
   "source": []
  }
 ],
 "metadata": {
  "kernelspec": {
   "display_name": "Python 3",
   "language": "python",
   "name": "python3"
  },
  "language_info": {
   "codemirror_mode": {
    "name": "ipython",
    "version": 3
   },
   "file_extension": ".py",
   "mimetype": "text/x-python",
   "name": "python",
   "nbconvert_exporter": "python",
   "pygments_lexer": "ipython3",
   "version": "3.6.5"
  },
  "toc": {
   "base_numbering": 1,
   "nav_menu": {
    "height": "525px",
    "width": "480px"
   },
   "number_sections": true,
   "sideBar": true,
   "skip_h1_title": false,
   "title_cell": "Table of Contents",
   "title_sidebar": "Contents",
   "toc_cell": false,
   "toc_position": {
    "height": "calc(100% - 180px)",
    "left": "10px",
    "top": "150px",
    "width": "215px"
   },
   "toc_section_display": true,
   "toc_window_display": true
  },
  "varInspector": {
   "cols": {
    "lenName": 16,
    "lenType": 16,
    "lenVar": 40
   },
   "kernels_config": {
    "python": {
     "delete_cmd_postfix": "",
     "delete_cmd_prefix": "del ",
     "library": "var_list.py",
     "varRefreshCmd": "print(var_dic_list())"
    },
    "r": {
     "delete_cmd_postfix": ") ",
     "delete_cmd_prefix": "rm(",
     "library": "var_list.r",
     "varRefreshCmd": "cat(var_dic_list()) "
    }
   },
   "position": {
    "height": "349px",
    "left": "939.091px",
    "right": "20px",
    "top": "120px",
    "width": "330px"
   },
   "types_to_exclude": [
    "module",
    "function",
    "builtin_function_or_method",
    "instance",
    "_Feature"
   ],
   "window_display": false
  }
 },
 "nbformat": 4,
 "nbformat_minor": 2
}
