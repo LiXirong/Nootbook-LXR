{
 "cells": [
  {
   "cell_type": "code",
   "execution_count": 1,
   "metadata": {
    "ExecuteTime": {
     "end_time": "2019-04-09T02:19:48.296668Z",
     "start_time": "2019-04-09T02:19:48.293670Z"
    }
   },
   "outputs": [],
   "source": [
    "# -*- coding: utf-8 -*-\n"
   ]
  },
  {
   "cell_type": "markdown",
   "metadata": {},
   "source": [
    "# 第二章 线性代数\n",
    "李曦嵘  \n",
    "634602068@qq.com  \n",
    "武汉大学电子信息学院  \n",
    "2019.4.9"
   ]
  },
  {
   "cell_type": "markdown",
   "metadata": {},
   "source": [
    "## 标量、向量、矩阵、张量\n",
    "\n",
    "**标量**：一个数值。 \n",
    "$$\n",
    "a=1\n",
    "$$\n",
    "**向量**：一维数组。  \n",
    "$$\n",
    "\\vec{x} = \\begin{bmatrix}\n",
    "x_0     \\\\\n",
    "\\vdots  \\\\\n",
    "x_n     \n",
    "\\end{bmatrix}\n",
    "$$\n",
    "**矩阵**：二维数组。  \n",
    "$$\n",
    "A = \\begin{bmatrix}\n",
    "A_{1,1} & A_{1,2}    \\\\\n",
    "A_{2,1}  & A_{2,2} \\\\\n",
    "\\end{bmatrix}\n",
    "$$\n",
    "> 矩阵转置：  \n",
    "即矩阵以主对角线（左上到右下）为轴的镜像。\n",
    "$$\n",
    "(A^T)_{i,j} = A_{j,i}\\\\\n",
    "A = \\begin{bmatrix}\n",
    "A_{1,1} & A_{1,2}    \\\\\n",
    "A_{2,1}  & A_{2,2} \\\\\n",
    "A_{3,1}  & A_{3,2} \\\\\n",
    "\\end{bmatrix} \\Rightarrow \n",
    "A^T = \\begin{bmatrix}\n",
    "A_{1,1} & A_{2,1} & A_{3,1}\\\\\n",
    "A_{1,2}  & A_{2,2} & A_{3,2}\\\\\n",
    "\\end{bmatrix}\n",
    "$$ \n",
    "\n",
    "**张量**：N维数组。"
   ]
  },
  {
   "cell_type": "markdown",
   "metadata": {},
   "source": [
    "## 矩阵和向量相乘\n",
    "\n",
    "**矩阵乘积(matrix product)**：\n",
    "\n",
    "\\begin{aligned}\n",
    "A_{m\\times n}\\times B_{n\\times p}&=C_{m\\times p} \\\\\n",
    "C &= AB \\\\\n",
    "C_{i,j} &= \\sum_k{A_{i,k}B_{k,j}}\n",
    "\\end{aligned}\n",
    "\n",
    "**矩阵对应元素乘积(Hadamard product)**：\n",
    "\n",
    "\\begin{aligned}\n",
    "C &= A\\odot B \\\\\n",
    "\\end{aligned}\n",
    "\n",
    "**矩阵相乘性质**：  \n",
    "分配律：$A(B+C)=AB+AC$  \n",
    "结合律：$A(BC)=(AB)C$  \n",
    "转置：$(AB)^T=B^TA^T$\n",
    "\n",
    "**向量相乘性质**：  \n",
    "点积：$x\\cdot y = x^Ty$  \n",
    "交换律：$x^Ty=y^Tx$  \n"
   ]
  },
  {
   "cell_type": "markdown",
   "metadata": {},
   "source": [
    "## 单位矩阵和逆矩阵\n",
    "\n",
    "**单位矩阵**：\n",
    "\\begin{aligned}\n",
    "I = \\begin{bmatrix}\n",
    "1   & &    \\\\\n",
    " & \\ddots &  \\\\\n",
    "   &  & 1\n",
    "\\end{bmatrix}\n",
    "\\end{aligned}\n",
    "\n",
    "**逆矩阵**：\n",
    "\\begin{aligned}\n",
    "A^{-1}A=I\n",
    "\\end{aligned}\n",
    "\n",
    "**逆矩阵求解线性方程组**：\n",
    "\n",
    "\\begin{aligned}\\\\\n",
    "Ax&=b \\\\\n",
    "A^{-1}Ax&=A^{-1}b \\\\\n",
    "x &= A^{-1}b\n",
    "\\end{aligned}\n"
   ]
  },
  {
   "cell_type": "markdown",
   "metadata": {},
   "source": [
    "## 线性相关和生成子空间\n",
    "\n",
    "如果逆矩阵$A^{-1}$存在，那么$Ax=b$肯定对每一个向量$b$恰好存在一个解。但是对于方程组而言，对于向量$b$的某些值，有可能不存在解，或存在无限多个解。\n",
    "\n",
    "将$A$的列向量看做从原点出发的不同方向，确定有多少种方法可以到达向量$b$。这种方法被称为 **线性组合(linear combination)** 。\n",
    "\\begin{aligned}\n",
    "Ax=\\sum_i{x_iA_{:,i}}\n",
    "\\end{aligned}\n",
    "一组向量的 **生成子空间(span)** 是原始向量线性组合后所能到达的点的集合。\n",
    "\n",
    "确定$Ax=b$是否有解相当于确定向量$b$是否在$A$列向量的生成子空间中，这个特殊的生成子空间称为$A$的 **列空间(column space)** 或者$A$的 **值域(range)**\n",
    "\n",
    "\\begin{aligned}\n",
    "A_{m\\times n}x=b_m\\text{有解} &\\Rightarrow \\\\\n",
    "b\\in \\mathbb{R}^m 为A的生成子空间&\\Rightarrow \\\\\n",
    "A_{m\\times n}有m个线性无关的列向量&\\Rightarrow \\\\\n",
    "n\\ge m&\n",
    "\\end{aligned}\n",
    "\n",
    "若对于任意$b$只存在一个解，则矩阵$A$可逆，且$m=n$，$A$的列向量线性无关，称为 **非奇异** 矩阵。"
   ]
  },
  {
   "cell_type": "markdown",
   "metadata": {},
   "source": [
    "## 范数\n",
    "\n",
    "**范数(norm)** 定义如下：  \n",
    "- $f(x)=0\\Rightarrow x=0$\n",
    "- $f(x+y)\\le f(x)+f(y)$\n",
    "- $\\forall \\alpha \\in \\mathbb{R}, f(\\alpha x)=\\left|\\alpha\\right|x$\n",
    "\n",
    "$L^p$范数：  \n",
    "\\begin{aligned}\n",
    "\\left\\| x\\right\\|_p =(\\sum_i{\\left|x_i\\right|^p})^{\\frac1p}\n",
    "\\end{aligned}\n",
    "\n",
    "其中$p\\in \\mathbb{R}, p>1$。\n",
    "\n",
    "$L^1$：平方L2范数对于0附近的差异变化较小，此时可以考虑使用L1范数。\n",
    "\\begin{aligned}\n",
    "\\left\\| x\\right\\|_1 =\\sum_i{\\left|x_i\\right|^p}\n",
    "\\end{aligned}\n",
    "\n",
    "$L^2$：又叫欧几里得范数，表示从原点出发到x的欧几里得距离。经常简化为$\\left\\| x\\right\\|$。\n",
    "\\begin{aligned}\n",
    "\\left\\| x\\right\\|_2 =(\\sum_i{\\left|x_i\\right|^2})^{\\frac12}\n",
    "\\end{aligned}\n",
    "\n",
    "$L^\\infty$：又叫最大范数，表示向量中最大幅度的元素的绝对值。\n",
    "\\begin{aligned}\n",
    "\\left\\| x\\right\\|_\\infty =\\max_i\\left|x_i\\right|\n",
    "\\end{aligned}\n",
    "\n",
    "\n",
    "$L^F$：衡量矩阵的大小，类似向量的L2范数。\n",
    "\\begin{aligned}\n",
    "\\left\\| A\\right\\|_F =\\sqrt{\\sum_{i,j}A_{i,j}}\n",
    "\\end{aligned}\n",
    "\n",
    "平方$L^2$：计算比L2方便，每个元素的导数只与本身有关，而L2每个元素的导数与整个向量有关。但在原点附近增长缓慢。\n",
    "\\begin{aligned}\n",
    "\\left\\| x\\right\\|_2 =\\sum_i{\\left|x_i\\right|^2}\n",
    "\\end{aligned}"
   ]
  },
  {
   "cell_type": "markdown",
   "metadata": {},
   "source": [
    "## 特殊类型的矩阵和向量\n",
    "\n",
    "**对角矩阵**：\n",
    "\n",
    "只在主对角线上的元素有值，记为$diag(A)$\n",
    "\n",
    "**对称矩阵**：\n",
    "\n",
    "$$A^T = A$$\n",
    "\n",
    "**正交矩阵**：\n",
    "\n",
    "$$A^TA=AA^T=I \\Rightarrow A^{-1}=A^T$$"
   ]
  },
  {
   "cell_type": "markdown",
   "metadata": {},
   "source": [
    "## 特征分解\n",
    "\n",
    "**特征分解**：将矩阵分解为一组特征值和一组对应的特征向量。\n",
    "方阵$A$的特征向量是指与$A$相乘后相当于对该向量进行缩放的非0向量$v$：\n",
    "\\begin{aligned}\n",
    "Av = \\lambda v\n",
    "\\end{aligned}\n",
    "$\\lambda$称为特征值，$v$称为特征向量（右特征向量）。由于缩放特性，因此$sv$也是$A$的特征向量，通常只考虑单位特征向量$v$。\n",
    "\n",
    "假设$A$有$n$个线性无关的特征向量$\\left\\{ v^{(1)},\\cdots,v^{(n)} \\right\\}$，对应特征值$\\left\\{\\lambda_1,\\cdots,\\lambda_n\\right\\}$，分别构成矩阵$V = [v^{(1)},\\cdots,v^{(n)}], \\lambda= [\\lambda_1,\\cdots,\\lambda_n]$，因此$A$的特征分解可以记作：\n",
    "\\begin{aligned}\n",
    "A=V diag(\\lambda)V^{-1}\n",
    "\\end{aligned}\n",
    "\n",
    "每个实对称矩阵都可以分解为实特征值和实特征向量：\n",
    "\\begin{aligned}\n",
    "A=Q diag(\\Lambda)Q^{-1}\n",
    "\\end{aligned}\n",
    "\n",
    "所有特征值都是正数的矩阵称为**正定** ，所有特征值都是非负的矩阵称为**半正定**， 同样地有**负定**，**半负定**。"
   ]
  },
  {
   "cell_type": "markdown",
   "metadata": {},
   "source": [
    "## 奇异值分解（SVD分解）\n",
    "\n",
    "SVD分解将矩阵分解为**奇异值**和**奇异向量**，与特征分解类似，奇异值分解将$A$分解为3个矩阵的乘积：\n",
    "\\begin{aligned}\n",
    "A_{m\\times n} = U_{m\\times m}D_{m\\times n}V_{n\\times n}^T\n",
    "\\end{aligned}\n",
    "矩阵$U$和$V$都为正交矩阵，矩阵$D$为对角矩阵。$D$对角线上的元素被称为奇异值，$U$的列向量被称为左奇异向量，$V$的列向量被称为右奇异向量。"
   ]
  },
  {
   "cell_type": "markdown",
   "metadata": {},
   "source": [
    "## Moore-Peterson 伪逆\n",
    "矩阵$A$的伪逆定义为：\n",
    "\\begin{aligned}\n",
    "A^+=\\lim_{a\\rightarrow 0}{(A^TA+\\alpha A)^{-1}A^T}\n",
    "\\end{aligned}\n",
    "计算伪逆的实际算法没有用到上面的公式，而是：\n",
    "\\begin{aligned}\n",
    "A^+=VD^+U^T\n",
    "\\end{aligned}\n",
    "其中，矩阵$U$，$D$，$V$是矩阵$A$奇异值分解后得到的矩阵，对角矩阵$D$的伪逆$D^+$是其非零元素取倒之后再转置得到的。\n",
    "\n",
    "当矩阵$A$的列数多与行数时，使用伪逆求解是众多可能解法中的一种。特别地，$x=A^+y$是方程所有可能解中欧几里得范数$\\left \\| x\\right \\|_2$最小的一个。\n",
    "当矩阵$A$的行数多与列数时，方程可能没有解。此时通过伪逆得到的解$x$使得$\\left \\| Ax-y\\right \\|_2$最小。"
   ]
  },
  {
   "cell_type": "markdown",
   "metadata": {},
   "source": [
    "## 迹运算\n",
    "\n",
    "迹运算返回的是矩阵对角元素的和：\n",
    "\\begin{aligned}\n",
    "Tr(A)=\\sum_iA_{i,i}\n",
    "\\end{aligned}\n",
    "\n",
    "因此$F$范数可表示为：\n",
    "\\begin{aligned}\n",
    "\\left\\| A\\right\\|_F =\\sqrt{\\sum_{i,j}A_{i,j}}=\\sqrt{Tr(AA^T)}\n",
    "\\end{aligned}\n",
    "\n",
    "迹运算的性质：\n",
    "- $Tr(A)=Tr(A^T)$\n",
    "- $Tr(ABC)=Tr(CAB)=Tr(BCA)$\n",
    "- $Tr(AB)=Tr(BA)$"
   ]
  },
  {
   "cell_type": "markdown",
   "metadata": {},
   "source": [
    "## 行列式\n",
    "\n",
    "矩阵$A$的行列式记作$det(A)$，是一个将方阵映射到实数的函数。行列式等于矩阵特征值的乘积。"
   ]
  },
  {
   "cell_type": "markdown",
   "metadata": {},
   "source": [
    "## PCA——主成分分析\n",
    "\n"
   ]
  },
  {
   "cell_type": "code",
   "execution_count": null,
   "metadata": {},
   "outputs": [],
   "source": []
  }
 ],
 "metadata": {
  "kernelspec": {
   "display_name": "Python 3",
   "language": "python",
   "name": "python3"
  },
  "language_info": {
   "codemirror_mode": {
    "name": "ipython",
    "version": 3
   },
   "file_extension": ".py",
   "mimetype": "text/x-python",
   "name": "python",
   "nbconvert_exporter": "python",
   "pygments_lexer": "ipython3",
   "version": "3.6.5"
  },
  "toc": {
   "base_numbering": 1,
   "nav_menu": {},
   "number_sections": true,
   "sideBar": true,
   "skip_h1_title": false,
   "title_cell": "Table of Contents",
   "title_sidebar": "Contents",
   "toc_cell": false,
   "toc_position": {
    "height": "calc(100% - 180px)",
    "left": "10px",
    "top": "150px",
    "width": "187px"
   },
   "toc_section_display": true,
   "toc_window_display": true
  },
  "varInspector": {
   "cols": {
    "lenName": 16,
    "lenType": 16,
    "lenVar": 40
   },
   "kernels_config": {
    "python": {
     "delete_cmd_postfix": "",
     "delete_cmd_prefix": "del ",
     "library": "var_list.py",
     "varRefreshCmd": "print(var_dic_list())"
    },
    "r": {
     "delete_cmd_postfix": ") ",
     "delete_cmd_prefix": "rm(",
     "library": "var_list.r",
     "varRefreshCmd": "cat(var_dic_list()) "
    }
   },
   "types_to_exclude": [
    "module",
    "function",
    "builtin_function_or_method",
    "instance",
    "_Feature"
   ],
   "window_display": false
  }
 },
 "nbformat": 4,
 "nbformat_minor": 2
}
